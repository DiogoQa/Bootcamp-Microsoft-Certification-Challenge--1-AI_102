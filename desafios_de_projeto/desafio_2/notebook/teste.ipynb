{
 "cells": [
  {
   "cell_type": "code",
   "execution_count": 15,
   "id": "2287c204-a2f4-49c1-a0d1-0288e08b9a31",
   "metadata": {},
   "outputs": [],
   "source": [
    "import requests, json, uuid\n",
    "#from docx import Document\n",
    "import os\n",
    "from dotenv import load_dotenv\n",
    "\n",
    "load_dotenv()\n",
    "\n",
    "subscription_key = os.getenv(\"TRANSLATOR_API_KEY\")\n",
    "endpoint = 'https://api.cognitive.microsofttranslator.com/'\n",
    "location = os.getenv(\"TRANSLATOR_LOCATION\") \n",
    "language_destination = 'pt-br'\n",
    "\n",
    "\n",
    "def translator_text(text, language_destination):\n",
    "\n",
    "  path = '/translate'\n",
    "  constructed_url = 'https://api.cognitive.microsofttranslator.com/' + path\n",
    "\n",
    "  params = {\n",
    "      'api-version': '3.0',\n",
    "      'from': 'en',\n",
    "      'to': language_destination \n",
    "  }\n",
    "\n",
    "  headers = {\n",
    "      'Ocp-Apim-Subscription-Key': subscription_key,\n",
    "      'Ocp-Apim-Subscription-Region': location,\n",
    "      'Content-type': 'application/json',\n",
    "      'X-ClientTraceId': str(os.urandom(16))\n",
    "  }\n",
    "\n",
    "\n",
    "  body = [{\n",
    "      'text': text\n",
    "  }]\n",
    "\n",
    "\n",
    "  response = requests.post(constructed_url, params=params, headers=headers, json=body)\n",
    "  \n",
    "\n",
    "  if response.status_code == 200:\n",
    "    # call json() method on the response object\n",
    "    response = response.json()\n",
    "\n",
    "    if response and isinstance(response, list) and len(response) > 0 and \\\n",
    "       'translations' in response[0] and len(response[0]['translations']) > 0 and \\\n",
    "       'text' in response[0]['translations'][0]:\n",
    "      return response[0]['translations'][0]['text']\n",
    "    else:\n",
    "      print(\"Error: Unexpected response format:\", response)\n",
    "      return None\n",
    "  else:\n",
    "      print(\"Error: API request failed with status code:\", response.status_code)\n",
    "      print(\"Error response:\", response.text)\n",
    "      return None"
   ]
  },
  {
   "cell_type": "code",
   "execution_count": 16,
   "id": "c1fc960d-f0dc-48b0-8115-be67c9250d60",
   "metadata": {},
   "outputs": [
    {
     "data": {
      "text/plain": [
       "'Mostre-me uma porta aberta'"
      ]
     },
     "execution_count": 16,
     "metadata": {},
     "output_type": "execute_result"
    }
   ],
   "source": [
    "translator_text(\"Show me an open door\", language_destination)\n"
   ]
  },
  {
   "cell_type": "code",
   "execution_count": null,
   "id": "8eedf7d5-8eaf-491c-b18c-e877ee105a9d",
   "metadata": {},
   "outputs": [],
   "source": []
  },
  {
   "cell_type": "code",
   "execution_count": 2,
   "id": "a4777342-7743-4a95-892b-d98f8c9df25e",
   "metadata": {},
   "outputs": [
    {
     "name": "stdout",
     "output_type": "stream",
     "text": [
      "Collecting docx\n",
      "  Downloading docx-0.2.4.tar.gz (54 kB)\n",
      "  Installing build dependencies ... \u001b[?25ldone\n",
      "\u001b[?25h  Getting requirements to build wheel ... \u001b[?25ldone\n",
      "\u001b[?25h  Preparing metadata (pyproject.toml) ... \u001b[?25ldone\n",
      "\u001b[?25hCollecting lxml (from docx)\n",
      "  Using cached lxml-5.3.0-cp312-cp312-manylinux_2_28_x86_64.whl.metadata (3.8 kB)\n",
      "Requirement already satisfied: Pillow>=2.0 in /home/jcnok/.pyenv/versions/3.12.1/lib/python3.12/site-packages (from docx) (10.4.0)\n",
      "Using cached lxml-5.3.0-cp312-cp312-manylinux_2_28_x86_64.whl (4.9 MB)\n",
      "Building wheels for collected packages: docx\n",
      "  Building wheel for docx (pyproject.toml) ... \u001b[?25ldone\n",
      "\u001b[?25h  Created wheel for docx: filename=docx-0.2.4-py3-none-any.whl size=53894 sha256=f590336c55f19697b9495fe59094c345355697cb0f2cdb014cda104d24cd4a0d\n",
      "  Stored in directory: /home/jcnok/.cache/pip/wheels/f3/ba/dd/43ed5f165600f41deddeb1e382c56ffc1067c09ec5bd705f39\n",
      "Successfully built docx\n",
      "Installing collected packages: lxml, docx\n",
      "Successfully installed docx-0.2.4 lxml-5.3.0\n",
      "\n",
      "\u001b[1m[\u001b[0m\u001b[34;49mnotice\u001b[0m\u001b[1;39;49m]\u001b[0m\u001b[39;49m A new release of pip is available: \u001b[0m\u001b[31;49m24.2\u001b[0m\u001b[39;49m -> \u001b[0m\u001b[32;49m24.3.1\u001b[0m\n",
      "\u001b[1m[\u001b[0m\u001b[34;49mnotice\u001b[0m\u001b[1;39;49m]\u001b[0m\u001b[39;49m To update, run: \u001b[0m\u001b[32;49mpip install --upgrade pip\u001b[0m\n"
     ]
    }
   ],
   "source": [
    "!pip install docx"
   ]
  },
  {
   "cell_type": "code",
   "execution_count": 1,
   "id": "cca7e6de-cc2d-49b1-b7ce-5302b180aa0f",
   "metadata": {},
   "outputs": [
    {
     "ename": "ModuleNotFoundError",
     "evalue": "No module named 'utils'",
     "output_type": "error",
     "traceback": [
      "\u001b[0;31m---------------------------------------------------------------------------\u001b[0m",
      "\u001b[0;31mModuleNotFoundError\u001b[0m                       Traceback (most recent call last)",
      "Cell \u001b[0;32mIn[1], line 2\u001b[0m\n\u001b[1;32m      1\u001b[0m \u001b[38;5;28;01mfrom\u001b[39;00m \u001b[38;5;21;01msrc\u001b[39;00m\u001b[38;5;21;01m.\u001b[39;00m\u001b[38;5;21;01mutils\u001b[39;00m\u001b[38;5;21;01m.\u001b[39;00m\u001b[38;5;21;01mConfig\u001b[39;00m \u001b[38;5;28;01mimport\u001b[39;00m Config\n\u001b[0;32m----> 2\u001b[0m \u001b[38;5;28;01mfrom\u001b[39;00m \u001b[38;5;21;01msrc\u001b[39;00m\u001b[38;5;21;01m.\u001b[39;00m\u001b[38;5;21;01mservices\u001b[39;00m\u001b[38;5;21;01m.\u001b[39;00m\u001b[38;5;21;01mblob_service\u001b[39;00m \u001b[38;5;28;01mimport\u001b[39;00m upload_to_blob\n",
      "File \u001b[0;32m~/bootcamps/Bootcamp-Microsoft-Certification-Challenge--1-AI_102/desafios_de_projeto/desafio_2/src/services/blob_service.py:3\u001b[0m\n\u001b[1;32m      1\u001b[0m \u001b[38;5;66;03m# src/services/blob_service.py\u001b[39;00m\n\u001b[1;32m      2\u001b[0m \u001b[38;5;28;01mfrom\u001b[39;00m \u001b[38;5;21;01mazure\u001b[39;00m\u001b[38;5;21;01m.\u001b[39;00m\u001b[38;5;21;01mstorage\u001b[39;00m\u001b[38;5;21;01m.\u001b[39;00m\u001b[38;5;21;01mblob\u001b[39;00m \u001b[38;5;28;01mimport\u001b[39;00m BlobServiceClient\n\u001b[0;32m----> 3\u001b[0m \u001b[38;5;28;01mfrom\u001b[39;00m \u001b[38;5;21;01mutils\u001b[39;00m\u001b[38;5;21;01m.\u001b[39;00m\u001b[38;5;21;01mConfig\u001b[39;00m \u001b[38;5;28;01mimport\u001b[39;00m Config\n\u001b[1;32m      5\u001b[0m \u001b[38;5;28;01mdef\u001b[39;00m \u001b[38;5;21mupload_to_blob\u001b[39m(source, filename\u001b[38;5;241m=\u001b[39m\u001b[38;5;28;01mNone\u001b[39;00m) \u001b[38;5;241m-\u001b[39m\u001b[38;5;241m>\u001b[39m \u001b[38;5;28mstr\u001b[39m:\n\u001b[1;32m      6\u001b[0m \u001b[38;5;250m    \u001b[39m\u001b[38;5;124;03m\"\"\"\u001b[39;00m\n\u001b[1;32m      7\u001b[0m \u001b[38;5;124;03m    Faz o upload de uma imagem para o Azure Blob Storage\u001b[39;00m\n\u001b[1;32m      8\u001b[0m \n\u001b[0;32m   (...)\u001b[0m\n\u001b[1;32m     14\u001b[0m \u001b[38;5;124;03m        str: URL do blob\u001b[39;00m\n\u001b[1;32m     15\u001b[0m \u001b[38;5;124;03m    \"\"\"\u001b[39;00m\n",
      "\u001b[0;31mModuleNotFoundError\u001b[0m: No module named 'utils'"
     ]
    }
   ],
   "source": [
    "from src.utils.Config import Config\n",
    "from src.services.blob_service import upload_to_blob"
   ]
  },
  {
   "cell_type": "code",
   "execution_count": 1,
   "id": "194d1a28-3d32-4f05-a593-916389bcc9e9",
   "metadata": {},
   "outputs": [],
   "source": [
    "import os  \n"
   ]
  },
  {
   "cell_type": "code",
   "execution_count": 2,
   "id": "52b8210c-415c-410e-8075-a67a08d9d7ec",
   "metadata": {},
   "outputs": [
    {
     "data": {
      "text/plain": [
       "'/home/jcnok/bootcamps/Bootcamp-Microsoft-Certification-Challenge--1-AI_102/desafios_de_projeto/desafio_2/src'"
      ]
     },
     "execution_count": 2,
     "metadata": {},
     "output_type": "execute_result"
    }
   ],
   "source": [
    "os.getcwd()"
   ]
  },
  {
   "cell_type": "code",
   "execution_count": 3,
   "id": "e168e4c6-9f98-4a32-b8f5-b6913e5a5327",
   "metadata": {},
   "outputs": [],
   "source": [
    "from utils.Config import Config"
   ]
  },
  {
   "cell_type": "code",
   "execution_count": 4,
   "id": "38323bce-5d45-4daa-b91c-15506ca1bd74",
   "metadata": {},
   "outputs": [],
   "source": [
    "from services.blob_service import upload_to_blob"
   ]
  },
  {
   "cell_type": "code",
   "execution_count": null,
   "id": "485be159-9c0d-46dc-bd7d-f81df1462189",
   "metadata": {},
   "outputs": [],
   "source": [
    "from azure.storage.blob import BlobServiceClient\n",
    "from utils.Config import Config\n",
    "\n",
    "def upload_to_blob(source, filename=None) -> str:\n",
    "    \"\"\"\n",
    "    Faz o upload de uma imagem para o Azure Blob Storage\n",
    "\n",
    "    Args:\n",
    "        source: imagem com o caminho completo. ex:\"img/imagem.png\"\n",
    "        filename:Nome opcional para o arquivo.\n",
    "\n",
    "    Returns:\n",
    "        str: URL do blob\n",
    "    \"\"\"\n",
    "    if not filename:\n",
    "        file = source.split(\".\")[0].split(\"/\")[-1]\n",
    "        extension = source.split(\".\")[-1]\n",
    "        filename = f\"{file}.{extension}\"\n",
    "\n",
    "    # Upload para o blob\n",
    "    blob_service_client = BlobServiceClient.from_connection_string(\n",
    "        Config.STORAGE_CONNECTION\n",
    "    )\n",
    "    blob_client = blob_service_client.get_blob_client(Config.CONTAINER_NAME, filename)\n",
    "    with open(file=source, mode=\"rb\") as data:\n",
    "        blob_client.upload_blob(data, overwrite=True)\n",
    "    return blob_client.url"
   ]
  }
 ],
 "metadata": {
  "kernelspec": {
   "display_name": "Python 3 (ipykernel)",
   "language": "python",
   "name": "python3"
  },
  "language_info": {
   "codemirror_mode": {
    "name": "ipython",
    "version": 3
   },
   "file_extension": ".py",
   "mimetype": "text/x-python",
   "name": "python",
   "nbconvert_exporter": "python",
   "pygments_lexer": "ipython3",
   "version": "3.12.1"
  },
  "widgets": {
   "application/vnd.jupyter.widget-state+json": {
    "state": {},
    "version_major": 2,
    "version_minor": 0
   }
  }
 },
 "nbformat": 4,
 "nbformat_minor": 5
}
