{
 "cells": [
  {
   "cell_type": "markdown",
   "id": "c8067ba9-9eca-4fce-9074-64ffa6e3121c",
   "metadata": {},
   "source": [
    "# Desafios de Código: Associando Conceitos de IA com Lógica de Programação."
   ]
  },
  {
   "cell_type": "markdown",
   "id": "7cd68179-725f-47d0-8f53-be47d5c36adb",
   "metadata": {},
   "source": [
    "<img src=\"img/code.png\" referrerpolicy=\"same-origin\" style=\"display: block; object-fit: cover; border-radius: 0px; width: 75%; height:10vh; opacity: 1; object-position: center 50%;\">"
   ]
  },
  {
   "cell_type": "markdown",
   "id": "36867ab4-e243-4951-8d83-abfb8178fffb",
   "metadata": {},
   "source": [
    "## Sobre"
   ]
  },
  {
   "cell_type": "markdown",
   "id": "22390479-a4e7-4e11-b9e6-fa545f7cca54",
   "metadata": {},
   "source": [
    "<a name=\"indice\"></a>\n",
    "## Índice\n",
    "\n",
    "1. [Desafio 1 - Associando os Conceitos de IA](#desafio-1)\n",
    "2. [Desafio 2 - Associando os Benefícios da IA no Azure](#desafio-2)\n",
    "3. [Desafio 3 - Associando os Serviços de IA do Azure](#desafio-3)"
   ]
  },
  {
   "cell_type": "markdown",
   "id": "4c0d7429-b041-4a42-a7eb-8768b23e5b3a",
   "metadata": {},
   "source": [
    "# Desafio 1\n",
    "<a name=\"desafio-1\"></a>"
   ]
  },
  {
   "cell_type": "markdown",
   "id": "6183ba68-1045-4f75-9077-b95cb56a76f9",
   "metadata": {},
   "source": [
    "# Associando os Conceitos de IA\n",
    "\n",
    "## Descrição\n",
    "Para fortalecer seus conhecimentos, complete o código deste desafio, associando os conceitos de IA com suas respectivas definições. Não se preocupe com a linguagem de programação, com o tempo você vai perceber que ela é apenas um detalhe. Portanto, aproveite esse momento para sair da sua zona de conforto e conhecer uma das linguagens suportadas pela IA.\n",
    "\n",
    "## Entrada\n",
    "A entrada consistirá no conceito de IA para o qual você deve retornar a descrição. Nesse contexto, os seguintes conceitos são considerados válidos para este desafio de código:\n",
    "- \"aprendizado supervisionado\"\n",
    "- \"aprendizado não supervisionado\"\n",
    "- \"redes neurais\"\n",
    "- \"processamento de linguagem natural\"\n",
    "\n",
    "## Saída\n",
    "A saída esperada é a descrição associada ao conceito fornecido como entrada. Seguem as saídas possíveis:\n",
    "- \"análise e geração de linguagem humana\"\n",
    "- \"sistemas inspirados no cérebro humano para processamento de dados\"\n",
    "- \"descoberta de padrões em dados não rotulados\"\n",
    "- \"treinamento de modelos com dados rotulados\"\n",
    "\n",
    "## Exemplos\n",
    "A tabela abaixo apresenta exemplos com alguns dados de entrada e suas respectivas saídas esperadas. Certifique-se de testar seu programa com esses exemplos e com outros casos possíveis.\n",
    "\n",
    "| Entrada | Saída |\n",
    "|---------|--------|\n",
    "| aprendizado supervisionado | treinamento de modelos com dados rotulados |\n",
    "| aprendizado não supervisionado | descoberta de padrões em dados não rotulados |\n",
    "| redes neurais | sistemas inspirados no cérebro humano para processamento de dados |\n",
    "| processamento de linguagem natural | análise e geração de linguagem humana |"
   ]
  },
  {
   "cell_type": "code",
   "execution_count": 3,
   "id": "4b9e6697-6f36-412e-8d3a-f8230c93269c",
   "metadata": {},
   "outputs": [
    {
     "name": "stdin",
     "output_type": "stream",
     "text": [
      " aprendizado supervisionado\n"
     ]
    },
    {
     "name": "stdout",
     "output_type": "stream",
     "text": [
      "treinamento de modelos com dados rotulados\n"
     ]
    }
   ],
   "source": [
    "def descrever_conceito(conceito):\n",
    "    if conceito == \"aprendizado supervisionado\":\n",
    "        return \"treinamento de modelos com dados rotulados\"\n",
    "    elif conceito == \"aprendizado não supervisionado\":\n",
    "        return \"descoberta de padrões em dados não rotulados\"\n",
    "    elif conceito == \"aprendizado por reforço\":\n",
    "        return \"aprendizado baseado em recompensas e punições\"\n",
    "    elif conceito == \"redes neurais\":\n",
    "        return \"sistemas inspirados no cérebro humano para processamento de dados\"\n",
    "    elif conceito == \"processamento de linguagem natural\":\n",
    "        return \"análise e geração de linguagem humana\"\n",
    " \n",
    "entrada = input()\n",
    "print(descrever_conceito(entrada))"
   ]
  },
  {
   "cell_type": "markdown",
   "id": "3d6756fc-d93a-45b3-b53e-b7c87e294479",
   "metadata": {},
   "source": [
    "[Voltar ao Índice](#indice)"
   ]
  },
  {
   "cell_type": "markdown",
   "id": "37eb5c7c-0977-490a-8194-d83eede10327",
   "metadata": {},
   "source": [
    "# Desafio 2\n",
    "<a name=\"desafio-2\"></a>"
   ]
  },
  {
   "cell_type": "markdown",
   "id": "3fba542d-e664-4021-adc0-a880c7746254",
   "metadata": {},
   "source": [
    "# Associando os Benefícios da IA no Azure\n",
    "\n",
    "## Descrição\n",
    "Neste desafio, você deve associar as vantagens da Inteligência Artificial no Azure com suas respectivas definições. Cada vantagem possui uma descrição específica que você precisará identificar e retornar de acordo com a entrada fornecida. O objetivo é reforçar sua familiaridade com os principais benefícios da IA no Azure, independentemente da linguagem de programação escolhida.\n",
    "\n",
    "## Entrada\n",
    "A entrada consistirá na vantagem da IA no Azure para a qual você deve retornar a descrição. Nesse contexto, as seguintes vantagens são consideradas válidas para este desafio de código:\n",
    "- \"análise preditiva\"\n",
    "- \"processamento de linguagem natural\"\n",
    "- \"automação\"\n",
    "- \"personalização\"\n",
    "\n",
    "## Saída\n",
    "A saída esperada é a descrição associada à vantagem fornecida como entrada. Seguem as saídas possíveis:\n",
    "- \"automatização de tarefas repetitivas e processos\"\n",
    "- \"oferecer experiências personalizadas aos usuários\"\n",
    "- \"habilidade de entender e gerar linguagem humana\"\n",
    "- \"capacidade de prever tendências e comportamentos futuros\"\n",
    "\n",
    "## Exemplos\n",
    "A tabela abaixo apresenta exemplos com alguns dados de entrada e suas respectivas saídas esperadas. Certifique-se de testar seu programa com esses exemplos e com outros casos possíveis.\n",
    "\n",
    "| Entrada | Saída |\n",
    "|---------|--------|\n",
    "| análise preditiva | capacidade de prever tendências e comportamentos futuros |\n",
    "| processamento de linguagem natural | habilidade de entender e gerar linguagem humana |\n",
    "| automação | automatização de tarefas repetitivas e processos |\n",
    "| personalização | oferecer experiências personalizadas aos usuários |"
   ]
  },
  {
   "cell_type": "code",
   "execution_count": 4,
   "id": "1f173be0-91dc-41dd-bb6e-822345e00790",
   "metadata": {},
   "outputs": [
    {
     "name": "stdin",
     "output_type": "stream",
     "text": [
      " análise preditiva\n"
     ]
    },
    {
     "name": "stdout",
     "output_type": "stream",
     "text": [
      "capacidade de prever tendências e comportamentos futuros\n"
     ]
    }
   ],
   "source": [
    "def descrever_vantagem(vantagem):\n",
    "    if vantagem == \"análise preditiva\":\n",
    "        return \"capacidade de prever tendências e comportamentos futuros\"\n",
    "    elif vantagem == \"processamento de linguagem natural\":\n",
    "        return \"habilidade de entender e gerar linguagem humana\"\n",
    "    elif vantagem == \"automação\":\n",
    "        return \"automatização de tarefas repetitivas e processos\"\n",
    "    elif vantagem == \"personalização\":\n",
    "        return \"oferecer experiências personalizadas aos usuários\"\n",
    "\n",
    "entrada = input()\n",
    "print(descrever_vantagem(entrada))"
   ]
  },
  {
   "cell_type": "markdown",
   "id": "c379c0b6-c1f8-4bd5-add5-d6f7907fe8fe",
   "metadata": {},
   "source": [
    "[Voltar ao Índice](#indice)"
   ]
  },
  {
   "cell_type": "markdown",
   "id": "a9ec4f12-000a-4781-974b-b0e4e8bd0c6f",
   "metadata": {},
   "source": [
    "# Desafio 3\n",
    "<a name=\"desafio-3\"></a>"
   ]
  },
  {
   "cell_type": "markdown",
   "id": "bf472ec2-2001-4b12-bb20-35e6f0e046b5",
   "metadata": {},
   "source": [
    "# Associando os Serviços de IA do Azure\n",
    "\n",
    "## Descrição\n",
    "Neste desafio, seu objetivo é associar corretamente os serviços de Inteligência Artificial do Azure com suas descrições específicas. Cada serviço oferece uma funcionalidade distinta, e sua tarefa será identificar o serviço correspondente à descrição fornecida na entrada. Este desafio foi criado para aprimorar seus conhecimentos sobre os recursos de IA do Azure, sem focar em uma linguagem de programação específica.\n",
    "\n",
    "**Saiba mais em:** Serviços de IA do Azure\n",
    "\n",
    "## Entrada\n",
    "A entrada consistirá no serviço de IA no Azure para o qual você deve retornar a descrição. Nesse contexto, os seguintes serviços são considerados válidos para este desafio de código:\n",
    "- \"Azure Machine Learning\"\n",
    "- \"Azure OpenAI Service\"\n",
    "- \"Azure AI Vision\"\n",
    "- \"Azure Bot Services\"\n",
    "\n",
    "## Saída\n",
    "A saída esperada é a descrição associada ao serviço fornecido como entrada. Seguem as saídas possíveis:\n",
    "- \"análise e interpretação de imagens e vídeos\"\n",
    "- \"criação e gerenciamento de bots inteligentes\"\n",
    "- \"plataforma para construir, treinar e implantar modelos de ml\"\n",
    "- \"integração de modelos avançados de linguagem da OpenAI\"\n",
    "\n",
    "## Exemplos\n",
    "A tabela abaixo apresenta exemplos com alguns dados de entrada e suas respectivas saídas esperadas. Certifique-se de testar seu programa com esses exemplos e com outros casos possíveis.\n",
    "\n",
    "| Entrada | Saída |\n",
    "|---------|--------|\n",
    "| Azure Machine Learning | plataforma para construir, treinar e implantar modelos de ml |\n",
    "| Azure Bot Services | criação e gerenciamento de bots inteligentes |\n",
    "| Azure OpenAI Service | integração de modelos avançados de linguagem da OpenAI |\n",
    "| Azure AI Vision | análise e interpretação de imagens e vídeos |"
   ]
  },
  {
   "cell_type": "code",
   "execution_count": 6,
   "id": "fc08de4c-0063-48f4-a030-bf92933b0a14",
   "metadata": {},
   "outputs": [
    {
     "name": "stdin",
     "output_type": "stream",
     "text": [
      " Azure Machine Learning\n"
     ]
    },
    {
     "name": "stdout",
     "output_type": "stream",
     "text": [
      "plataforma para construir, treinar e implantar modelos de ml\n"
     ]
    }
   ],
   "source": [
    "def descrever_servico(servico):\n",
    "    if servico == \"Azure Cognitive Services\":\n",
    "        return \"serviços pré-construídos para visão, fala, linguagem e tomada de decisão\"\n",
    "    elif servico == \"Azure Machine Learning\":\n",
    "        return \"plataforma para construir, treinar e implantar modelos de ml\"\n",
    "    elif servico == \"Azure Bot Services\":\n",
    "        return \"criação e gerenciamento de bots inteligentes\"\n",
    "    elif servico == \"Azure OpenAI Service\":\n",
    "        return \"integração de modelos avançados de linguagem da OpenAI\"\n",
    "    elif servico == \"Azure AI Vision\":\n",
    "        return \"análise e interpretação de imagens e vídeos\"\n",
    "\n",
    "entrada = input()\n",
    "print(descrever_servico(entrada))\n"
   ]
  },
  {
   "cell_type": "markdown",
   "id": "6a2a372d-4d12-46e4-9885-f6ab5316042e",
   "metadata": {},
   "source": [
    "[Voltar ao Índice](#indice)"
   ]
  },
  {
   "cell_type": "code",
   "execution_count": null,
   "id": "444bb115-e65a-4152-a338-0b2e045aa098",
   "metadata": {},
   "outputs": [],
   "source": []
  }
 ],
 "metadata": {
  "kernelspec": {
   "display_name": "Python 3 (ipykernel)",
   "language": "python",
   "name": "python3"
  },
  "language_info": {
   "codemirror_mode": {
    "name": "ipython",
    "version": 3
   },
   "file_extension": ".py",
   "mimetype": "text/x-python",
   "name": "python",
   "nbconvert_exporter": "python",
   "pygments_lexer": "ipython3",
   "version": "3.12.1"
  },
  "widgets": {
   "application/vnd.jupyter.widget-state+json": {
    "state": {},
    "version_major": 2,
    "version_minor": 0
   }
  }
 },
 "nbformat": 4,
 "nbformat_minor": 5
}
