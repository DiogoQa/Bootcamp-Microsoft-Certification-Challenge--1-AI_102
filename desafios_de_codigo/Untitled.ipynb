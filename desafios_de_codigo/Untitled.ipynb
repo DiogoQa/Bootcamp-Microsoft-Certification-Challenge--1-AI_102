{
 "cells": [
  {
   "cell_type": "markdown",
   "id": "c8067ba9-9eca-4fce-9074-64ffa6e3121c",
   "metadata": {},
   "source": [
    "# Desafio 1 "
   ]
  },
  {
   "cell_type": "markdown",
   "id": "4ec7bfa1-2a34-4ffa-a6a4-de2f2b15d9c9",
   "metadata": {},
   "source": [
    "Associando Conceitos de IA com Lógica de Programação\n",
    "1 / 3 - Associando os Conceitos de IA\n",
    "XP 39063/41323\n",
    "LEVEL 20\n",
    "5/5\n",
    " Basic\n",
    " Princípios Básicos\n",
    "Descrição\n",
    "Para fortalecer seus conhecimentos, complete o código deste desafio, associando os conceitos de IA com suas respectivas definições. Não se preocupe com a linguagem de programação, com o tempo você vai perceber que ela é apenas um detalhe. Portanto, aproveite esse momento para sair da sua zona de conforto e conhecer uma das linguagens suportadas pela IA.\n",
    "\n",
    "Entrada\n",
    "A entrada consistirá no conceito de IA para o qual você deve retornar a descrição. Nesse contexto, os seguintes conceitos são considerados válidos para este desafio de código:\n",
    "\n",
    "\"aprendizado supervisionado\"\n",
    "\"aprendizado não supervisionado\"\n",
    "\"redes neurais\"\n",
    "\"processamento de linguagem natural\"\n",
    "Saída\n",
    "A saída esperada é a descrição associada ao conceito fornecido como entrada. Seguem as saídas possíveis, listadas aleatoriamente, para que você possa analisar e associar corretamente considerando o template de código deste desafio:\n",
    "\n",
    "\"análise e geração de linguagem humana\"\n",
    "\"sistemas inspirados no cérebro humano para processamento de dados\"\n",
    "\"descoberta de padrões em dados não rotulados\"\n",
    "\"treinamento de modelos com dados rotulados\"\n",
    "Exemplos\n",
    "A tabela abaixo apresenta exemplos com alguns dados de entrada e suas respectivas saídas esperadas. Certifique-se de testar seu programa com esses exemplos e com outros casos possíveis.\n",
    "\n",
    "Entrada\tSaída\n",
    "aprendizado supervisionado\ttreinamento de modelos com dados rotulados\n",
    "aprendizado não supervisionado\tdescoberta de padrões em dados não rotulados\n",
    "redes neurais\tsistemas inspirados no cérebro humano para processamento de dados"
   ]
  },
  {
   "cell_type": "code",
   "execution_count": null,
   "id": "444bb115-e65a-4152-a338-0b2e045aa098",
   "metadata": {},
   "outputs": [],
   "source": []
  }
 ],
 "metadata": {
  "kernelspec": {
   "display_name": "Python 3 (ipykernel)",
   "language": "python",
   "name": "python3"
  },
  "language_info": {
   "codemirror_mode": {
    "name": "ipython",
    "version": 3
   },
   "file_extension": ".py",
   "mimetype": "text/x-python",
   "name": "python",
   "nbconvert_exporter": "python",
   "pygments_lexer": "ipython3",
   "version": "3.12.1"
  },
  "widgets": {
   "application/vnd.jupyter.widget-state+json": {
    "state": {},
    "version_major": 2,
    "version_minor": 0
   }
  }
 },
 "nbformat": 4,
 "nbformat_minor": 5
}
